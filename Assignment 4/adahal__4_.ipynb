{
  "nbformat": 4,
  "nbformat_minor": 0,
  "metadata": {
    "colab": {
      "provenance": [],
      "machine_shape": "hm",
      "gpuType": "T4"
    },
    "kernelspec": {
      "name": "python3",
      "display_name": "Python 3"
    },
    "language_info": {
      "name": "python"
    },
    "accelerator": "GPU"
  },
  "cells": [
    {
      "cell_type": "markdown",
      "source": [
        "#Text and Sequence Data Assignment"
      ],
      "metadata": {
        "id": "WW3giBhLvKCx"
      }
    },
    {
      "cell_type": "markdown",
      "source": [
        "# Setup and Data Preprocessing"
      ],
      "metadata": {
        "id": "5iEOB-Srg6YW"
      }
    },
    {
      "cell_type": "code",
      "execution_count": null,
      "metadata": {
        "colab": {
          "base_uri": "https://localhost:8080/"
        },
        "id": "ryV5xsr_g287",
        "outputId": "dbf1d374-d671-4966-856e-d7f28390debc"
      },
      "outputs": [
        {
          "output_type": "stream",
          "name": "stdout",
          "text": [
            "Downloading data from https://storage.googleapis.com/tensorflow/tf-keras-datasets/imdb.npz\n",
            "\u001b[1m17464789/17464789\u001b[0m \u001b[32m━━━━━━━━━━━━━━━━━━━━\u001b[0m\u001b[37m\u001b[0m \u001b[1m1s\u001b[0m 0us/step\n"
          ]
        }
      ],
      "source": [
        "import tensorflow as tf\n",
        "from tensorflow import keras\n",
        "from tensorflow.keras import layers\n",
        "import numpy as np\n",
        "import matplotlib.pyplot as plt\n",
        "import pandas as pd\n",
        "import os\n",
        "\n",
        "# Set random seeds for reproducibility\n",
        "np.random.seed(42)\n",
        "tf.random.set_seed(42)\n",
        "\n",
        "# Load IMDB dataset\n",
        "vocab_size = 10000\n",
        "maxlen = 150\n",
        "(x_train, y_train), (x_val, y_val) = keras.datasets.imdb.load_data(num_words=vocab_size)\n",
        "\n",
        "# Pad sequences to fixed length\n",
        "x_train = keras.preprocessing.sequence.pad_sequences(x_train, maxlen=maxlen)\n",
        "x_val = keras.preprocessing.sequence.pad_sequences(x_val, maxlen=maxlen)\n",
        "\n",
        "# Limit validation set to 10,000\n",
        "x_val = x_val[:10000]\n",
        "y_val = y_val[:10000]\n"
      ]
    },
    {
      "cell_type": "markdown",
      "source": [
        "- Imports all required libraries: TensorFlow/Keras for deep learning, NumPy for data, Matplotlib for plotting, pandas for dataframes.\n",
        "- Sets random seeds to ensure consistent results each time.\n",
        "- Loads the IMDB dataset with the top 10,000 most frequent words (for simplicity and speed).\n",
        "- Pads all sequences (reviews) to a maximum length of 150 words using pad_sequences().\n",
        "- Limits the validation set to the first 10,000 samples (as per assignment requirement)."
      ],
      "metadata": {
        "id": "RCMeO6-eiywu"
      }
    },
    {
      "cell_type": "markdown",
      "source": [
        " # Model Builders"
      ],
      "metadata": {
        "id": "gBWa6AsLg_7j"
      }
    },
    {
      "cell_type": "code",
      "source": [
        "def build_model_with_embedding():\n",
        "    model = keras.Sequential([\n",
        "        layers.Embedding(input_dim=vocab_size, output_dim=128, input_length=maxlen),\n",
        "        layers.LSTM(64),\n",
        "        layers.Dense(1, activation='sigmoid')\n",
        "    ])\n",
        "    model.compile(optimizer='adam', loss='binary_crossentropy', metrics=['accuracy'])\n",
        "    return model\n",
        "\n",
        "def build_pretrained_model(embedding_matrix, embedding_dim):\n",
        "    model = keras.Sequential([\n",
        "        layers.Embedding(input_dim=vocab_size, output_dim=embedding_dim,\n",
        "                         weights=[embedding_matrix], input_length=maxlen,\n",
        "                         trainable=False),\n",
        "        layers.LSTM(64),\n",
        "        layers.Dense(1, activation='sigmoid')\n",
        "    ])\n",
        "    model.compile(optimizer='adam', loss='binary_crossentropy', metrics=['accuracy'])\n",
        "    return model\n"
      ],
      "metadata": {
        "id": "Z7XVKr6fhCCa"
      },
      "execution_count": null,
      "outputs": []
    },
    {
      "cell_type": "markdown",
      "source": [
        "- Defines two types of models:\n",
        " 1. Trainable Embedding Model: Learns word meanings during training.\n",
        " 2. Pretrained GloVe Model: Uses already-learned word meanings (from real-world texts) and freezes them.\n",
        "\n",
        "Both models use:\n",
        "* An embedding layer\n",
        "* An LSTM (Recurrent Layer) for sequential understanding\n",
        "* A Dense layer with sigmoid activation for binary classification (positive/negative)"
      ],
      "metadata": {
        "id": "CTS_YHxbi7hJ"
      }
    },
    {
      "cell_type": "markdown",
      "source": [
        "#  Download and Load GloVe Embeddings"
      ],
      "metadata": {
        "id": "NCPIpWydhINP"
      }
    },
    {
      "cell_type": "code",
      "source": [
        "# Download GloVe (only run once in Google Colab)\n",
        "!wget http://nlp.stanford.edu/data/glove.6B.zip\n",
        "!unzip -q glove.6B.zip\n",
        "\n",
        "# Load GloVe vectors\n",
        "embedding_index = {}\n",
        "with open(\"glove.6B.100d.txt\", encoding=\"utf-8\") as f:\n",
        "    for line in f:\n",
        "        values = line.split()\n",
        "        word = values[0]\n",
        "        coeffs = np.asarray(values[1:], dtype='float32')\n",
        "        embedding_index[word] = coeffs\n",
        "\n",
        "# Build embedding matrix for IMDB words\n",
        "word_index = keras.datasets.imdb.get_word_index()\n",
        "embedding_dim = 100\n",
        "embedding_matrix = np.zeros((vocab_size, embedding_dim))\n",
        "\n",
        "for word, i in word_index.items():\n",
        "    if i < vocab_size:\n",
        "        vec = embedding_index.get(word)\n",
        "        if vec is not None:\n",
        "            embedding_matrix[i] = vec\n"
      ],
      "metadata": {
        "colab": {
          "base_uri": "https://localhost:8080/"
        },
        "id": "XYV4E8qdhNqL",
        "outputId": "0d289c85-cc50-49d0-8a94-8c4c48646725"
      },
      "execution_count": null,
      "outputs": [
        {
          "output_type": "stream",
          "name": "stdout",
          "text": [
            "--2025-04-15 03:42:44--  http://nlp.stanford.edu/data/glove.6B.zip\n",
            "Resolving nlp.stanford.edu (nlp.stanford.edu)... 171.64.67.140\n",
            "Connecting to nlp.stanford.edu (nlp.stanford.edu)|171.64.67.140|:80... connected.\n",
            "HTTP request sent, awaiting response... 302 Found\n",
            "Location: https://nlp.stanford.edu/data/glove.6B.zip [following]\n",
            "--2025-04-15 03:42:44--  https://nlp.stanford.edu/data/glove.6B.zip\n",
            "Connecting to nlp.stanford.edu (nlp.stanford.edu)|171.64.67.140|:443... connected.\n",
            "HTTP request sent, awaiting response... 301 Moved Permanently\n",
            "Location: https://downloads.cs.stanford.edu/nlp/data/glove.6B.zip [following]\n",
            "--2025-04-15 03:42:45--  https://downloads.cs.stanford.edu/nlp/data/glove.6B.zip\n",
            "Resolving downloads.cs.stanford.edu (downloads.cs.stanford.edu)... 171.64.64.22\n",
            "Connecting to downloads.cs.stanford.edu (downloads.cs.stanford.edu)|171.64.64.22|:443... connected.\n",
            "HTTP request sent, awaiting response... 200 OK\n",
            "Length: 862182613 (822M) [application/zip]\n",
            "Saving to: ‘glove.6B.zip’\n",
            "\n",
            "glove.6B.zip        100%[===================>] 822.24M  1.31MB/s    in 6m 38s  \n",
            "\n",
            "2025-04-15 03:49:23 (2.07 MB/s) - ‘glove.6B.zip’ saved [862182613/862182613]\n",
            "\n",
            "Downloading data from https://storage.googleapis.com/tensorflow/tf-keras-datasets/imdb_word_index.json\n",
            "\u001b[1m1641221/1641221\u001b[0m \u001b[32m━━━━━━━━━━━━━━━━━━━━\u001b[0m\u001b[37m\u001b[0m \u001b[1m1s\u001b[0m 0us/step\n"
          ]
        }
      ]
    },
    {
      "cell_type": "markdown",
      "source": [
        "* Downloads GloVe embeddings (100-dimensional) — trained on large real-world datasets.\n",
        "* Reads the file and creates a dictionary (embedding_index) that maps each word to its vector.\n",
        "* Converts the IMDB word indices to their GloVe vectors and builds a matching embedding matrix.\n",
        "* This matrix will be loaded into the model to inject pretrained knowledge."
      ],
      "metadata": {
        "id": "OhW9mzoCjKeL"
      }
    },
    {
      "cell_type": "markdown",
      "source": [
        "# Train Models with Varying Sample Sizes"
      ],
      "metadata": {
        "id": "NMWyQagPhSxh"
      }
    },
    {
      "cell_type": "code",
      "source": [
        "train_sizes = [100, 500, 1000, 5000]\n",
        "results = []\n",
        "\n",
        "for size in train_sizes:\n",
        "    print(f\"\\n🔹 Training with {size} samples...\")\n",
        "\n",
        "    x_subset = x_train[:size]\n",
        "    y_subset = y_train[:size]\n",
        "\n",
        "    # Train model with trainable embedding\n",
        "    model = build_model_with_embedding()\n",
        "    history1 = model.fit(x_subset, y_subset, epochs=5, validation_data=(x_val, y_val), verbose=0)\n",
        "    acc1 = history1.history['val_accuracy'][-1]\n",
        "    results.append({'Train_Size': size, 'Embedding': 'Trainable', 'Val_Accuracy': acc1})\n",
        "\n",
        "    # Train model with pretrained GloVe\n",
        "    model = build_pretrained_model(embedding_matrix, embedding_dim)\n",
        "    history2 = model.fit(x_subset, y_subset, epochs=5, validation_data=(x_val, y_val), verbose=0)\n",
        "    acc2 = history2.history['val_accuracy'][-1]\n",
        "    results.append({'Train_Size': size, 'Embedding': 'Pretrained', 'Val_Accuracy': acc2})\n"
      ],
      "metadata": {
        "colab": {
          "base_uri": "https://localhost:8080/"
        },
        "id": "yYT2RWx9hSbY",
        "outputId": "4b2e770f-8306-41c6-90a1-2c42b1155b5f"
      },
      "execution_count": null,
      "outputs": [
        {
          "output_type": "stream",
          "name": "stdout",
          "text": [
            "\n",
            "🔹 Training with 100 samples...\n"
          ]
        },
        {
          "output_type": "stream",
          "name": "stderr",
          "text": [
            "/usr/local/lib/python3.11/dist-packages/keras/src/layers/core/embedding.py:90: UserWarning: Argument `input_length` is deprecated. Just remove it.\n",
            "  warnings.warn(\n"
          ]
        },
        {
          "output_type": "stream",
          "name": "stdout",
          "text": [
            "\n",
            "🔹 Training with 500 samples...\n",
            "\n",
            "🔹 Training with 1000 samples...\n",
            "\n",
            "🔹 Training with 5000 samples...\n"
          ]
        }
      ]
    },
    {
      "cell_type": "markdown",
      "source": [
        "* Trains both models for each training sample size (100, 500, 1000, 5000).\n",
        "* For each size:\n",
        " - Trains the Trainable Embedding model\n",
        " - Trains the Pretrained GloVe model\n",
        " - Records the final validation accuracy for both\n",
        "* Stores results in a list of dictionaries, which will later be converted into a table"
      ],
      "metadata": {
        "id": "nGNuF0eqjYAk"
      }
    },
    {
      "cell_type": "markdown",
      "source": [
        "# Results Table and Plot"
      ],
      "metadata": {
        "id": "xi5pSoSLhY3G"
      }
    },
    {
      "cell_type": "code",
      "source": [
        "# Convert to DataFrame\n",
        "df_results = pd.DataFrame(results)\n",
        "print(df_results)\n",
        "\n",
        "# Pivot for plotting\n",
        "pivot_df = df_results.pivot(index='Train_Size', columns='Embedding', values='Val_Accuracy')\n",
        "\n",
        "# Plot\n",
        "pivot_df.plot(marker='o')\n",
        "plt.title(\"Validation Accuracy vs Training Size\")\n",
        "plt.ylabel(\"Validation Accuracy\")\n",
        "plt.xlabel(\"Training Samples\")\n",
        "plt.grid(True)\n",
        "plt.legend(title=\"Embedding Type\")\n",
        "plt.tight_layout()\n",
        "plt.show()\n"
      ],
      "metadata": {
        "colab": {
          "base_uri": "https://localhost:8080/",
          "height": 639
        },
        "id": "SQPhnwaNhYjU",
        "outputId": "84bb9ebc-fdc6-41c0-f00b-26e227bd08d7"
      },
      "execution_count": null,
      "outputs": [
        {
          "output_type": "stream",
          "name": "stdout",
          "text": [
            "   Train_Size   Embedding  Val_Accuracy\n",
            "0         100   Trainable        0.5026\n",
            "1         100  Pretrained        0.5038\n",
            "2         500   Trainable        0.7178\n",
            "3         500  Pretrained        0.5238\n",
            "4        1000   Trainable        0.7058\n",
            "5        1000  Pretrained        0.5492\n",
            "6        5000   Trainable        0.7928\n",
            "7        5000  Pretrained        0.6261\n"
          ]
        },
        {
          "output_type": "display_data",
          "data": {
            "text/plain": [
              "<Figure size 640x480 with 1 Axes>"
            ],
            "image/png": "[encoded data removed]"
          },
          "metadata": {}
        }
      ]
    },
    {
      "cell_type": "markdown",
      "source": [
        "1. With very small training sets (100 samples):\n",
        "\n",
        "- Both approaches perform similarly (about 50% accuracy)\n",
        "- The pretrained embeddings have a tiny advantage (0.5038 vs 0.5026)\n",
        "\n",
        "\n",
        "2. As training samples increase (500, 1000, 5000):\n",
        "\n",
        "- The trainable embedding model quickly outperforms the pretrained model\n",
        "- At 500 samples, the trainable model jumps to 71.78% while pretrained only reaches 52.38%\n",
        "- This gap continues to widen with more samples\n",
        "\n",
        "\n",
        "3. Contrary to what might be expected:\n",
        "\n",
        "- The pretrained GloVe embeddings did not provide the advantage one might expect with limited data\n",
        "- The trainable embeddings learned more effectively from the specific task data"
      ],
      "metadata": {
        "id": "05_ErC44jkaU"
      }
    }
  ]
}