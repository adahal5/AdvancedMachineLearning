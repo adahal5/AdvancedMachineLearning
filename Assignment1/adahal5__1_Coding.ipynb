{
  "cells": [
    {
      "cell_type": "markdown",
      "metadata": {
        "id": "gxCBWE8sYwDr"
      },
      "source": [
        "#Modify the Neural Network Model"
      ]
    },
    {
      "cell_type": "code",
      "execution_count": null,
      "metadata": {
        "id": "ElOF0yBnKl19"
      },
      "outputs": [],
      "source": [
        "import tensorflow as tf\n",
        "from tensorflow.keras.datasets import imdb\n",
        "from tensorflow.keras.preprocessing.sequence import pad_sequences\n",
        "from tensorflow.keras.layers import Dense, Flatten, Embedding, Dropout\n",
        "import matplotlib.pyplot as plt\n",
        "import pandas as pd"
      ]
    },
    {
      "cell_type": "markdown",
      "metadata": {
        "id": "lKE3OmtpYyh9"
      },
      "source": [
        "#Load the IMDB Dataset"
      ]
    },
    {
      "cell_type": "markdown",
      "metadata": {
        "id": "DG1ZACpVGj84"
      },
      "source": [
        "This dataset contains movie reviews labeled as positive or negative."
      ]
    },
    {
      "cell_type": "code",
      "execution_count": null,
      "metadata": {
        "colab": {
          "base_uri": "https://localhost:8080/"
        },
        "id": "6M1UrCqdK8z3",
        "outputId": "eed7e501-5fcb-447e-9ed4-9f786c459af1"
      },
      "outputs": [
        {
          "output_type": "stream",
          "name": "stdout",
          "text": [
            "Downloading data from https://storage.googleapis.com/tensorflow/tf-keras-datasets/imdb.npz\n",
            "\u001b[1m17464789/17464789\u001b[0m \u001b[32m━━━━━━━━━━━━━━━━━━━━\u001b[0m\u001b[37m\u001b[0m \u001b[1m2s\u001b[0m 0us/step\n"
          ]
        }
      ],
      "source": [
        "max_features = 10000\n",
        "maxlen = 500\n",
        "(x_train, y_train), (x_test, y_test) = imdb.load_data(num_words=max_features)\n",
        "x_train = pad_sequences(x_train, maxlen=maxlen)\n",
        "x_test = pad_sequences(x_test, maxlen=maxlen)"
      ]
    },
    {
      "cell_type": "markdown",
      "metadata": {
        "id": "L9ckIctcZIBd"
      },
      "source": [
        "# Model configurations"
      ]
    },
    {
      "cell_type": "markdown",
      "metadata": {
        "id": "jEslz-QsGt4V"
      },
      "source": [
        "This function allows flexibility in adjusting hidden units, activation functions, loss functions, and dropout."
      ]
    },
    {
      "cell_type": "code",
      "execution_count": null,
      "metadata": {
        "id": "tm360cDMLKDv"
      },
      "outputs": [],
      "source": [
        "def create_model(hidden_units=64, activation='relu', loss='binary_crossentropy', dropout_rate=None):\n",
        "    model = tf.keras.Sequential([\n",
        "        Embedding(input_dim=max_features, output_dim=128),\n",
        "        Flatten(),\n",
        "        Dense(hidden_units, activation=activation)\n",
        "    ])\n",
        "    if dropout_rate:\n",
        "        model.add(Dropout(dropout_rate))\n",
        "    model.add(Dense(1, activation='sigmoid'))\n",
        "    model.compile(optimizer='adam', loss=loss, metrics=['accuracy'])\n",
        "    return model\n",
        "\n"
      ]
    },
    {
      "cell_type": "markdown",
      "metadata": {
        "id": "nOySM8VlZ1hJ"
      },
      "source": [
        "# Model variations"
      ]
    },
    {
      "cell_type": "markdown",
      "metadata": {
        "id": "DEUnooGEG1o9"
      },
      "source": [
        "Experimenting with different hidden layers, activations, losses, and units."
      ]
    },
    {
      "cell_type": "code",
      "execution_count": null,
      "metadata": {
        "id": "QFiZ6lqcLVBi"
      },
      "outputs": [],
      "source": [
        "models = {\n",
        "    \"One Hidden Layer (64 units)\": create_model(hidden_units=64),\n",
        "    \"Three Hidden Layers\": tf.keras.Sequential([\n",
        "        Embedding(input_dim=max_features, output_dim=128),\n",
        "        Flatten(),\n",
        "        Dense(64, activation='relu'),\n",
        "        Dense(32, activation='relu'),\n",
        "        Dense(16, activation='relu'),\n",
        "        Dense(1, activation='sigmoid')\n",
        "    ]),\n",
        "    \"Tanh Activation + MSE Loss\": create_model(hidden_units=64, activation='tanh', loss='mse'),\n",
        "    \"Dropout Regularization\": create_model(hidden_units=64, dropout_rate=0.5),\n",
        "    \"Fewer Units (32)\": create_model(hidden_units=32),\n",
        "    \"More Units (128)\": create_model(hidden_units=128)\n",
        "}\n",
        "\n"
      ]
    },
    {
      "cell_type": "markdown",
      "metadata": {
        "id": "bTscS2BaZUO-"
      },
      "source": [
        "# Compile models where needed"
      ]
    },
    {
      "cell_type": "markdown",
      "metadata": {
        "id": "3nrXTfgYG6h_"
      },
      "source": [
        "Some models require explicit compilation after creation."
      ]
    },
    {
      "cell_type": "code",
      "execution_count": null,
      "metadata": {
        "id": "NXDM0EZSLevq"
      },
      "outputs": [],
      "source": [
        "models[\"Three Hidden Layers\"].compile(optimizer='adam', loss='binary_crossentropy', metrics=['accuracy'])\n"
      ]
    },
    {
      "cell_type": "markdown",
      "metadata": {
        "id": "QvjGeJigZXve"
      },
      "source": [
        "# Train and evaluate models"
      ]
    },
    {
      "cell_type": "markdown",
      "metadata": {
        "id": "E1pUB6tIG-Z2"
      },
      "source": [
        "Training each model for 5 epochs and evaluating on the test set."
      ]
    },
    {
      "cell_type": "code",
      "execution_count": null,
      "metadata": {
        "id": "CFCM46klLhsv"
      },
      "outputs": [],
      "source": [
        "def train_and_evaluate(model):\n",
        "    model.fit(x_train, y_train, epochs=5, batch_size=32, validation_split=0.2, verbose=0)\n",
        "    val_accuracy = model.evaluate(x_test, y_test, verbose=0)[1]\n",
        "    test_accuracy = model.evaluate(x_test, y_test, verbose=0)[1]\n",
        "    return val_accuracy, test_accuracy\n"
      ]
    },
    {
      "cell_type": "markdown",
      "metadata": {
        "id": "QOypaoIwEf51"
      },
      "source": [
        "# Evaluate all models and collect results"
      ]
    },
    {
      "cell_type": "markdown",
      "metadata": {
        "id": "404PRvAaHS_V"
      },
      "source": [
        "Storing validation and test accuracies for comparison."
      ]
    },
    {
      "cell_type": "code",
      "execution_count": null,
      "metadata": {
        "id": "14DxDwA7HVCD"
      },
      "outputs": [],
      "source": [
        "results = {name: train_and_evaluate(model) for name, model in models.items()}"
      ]
    },
    {
      "cell_type": "markdown",
      "metadata": {
        "id": "GeH-xPrsHiI2"
      },
      "source": [
        "#Summarize results in a DataFrame"
      ]
    },
    {
      "cell_type": "markdown",
      "metadata": {
        "id": "frflRpMWHtJj"
      },
      "source": [
        "Creating a table for clear presentation of model performances."
      ]
    },
    {
      "cell_type": "code",
      "execution_count": null,
      "metadata": {
        "id": "itNxtan6EhA8"
      },
      "outputs": [],
      "source": [
        "summary = pd.DataFrame([\n",
        "    {\"Model\": name, \"Validation Accuracy\": val_acc, \"Test Accuracy\": test_acc}\n",
        "    for name, (val_acc, test_acc) in results.items()\n",
        "])"
      ]
    },
    {
      "cell_type": "markdown",
      "metadata": {
        "id": "-HoSz9eEEnh4"
      },
      "source": [
        "# Visualize the results"
      ]
    },
    {
      "cell_type": "markdown",
      "metadata": {
        "id": "xGtckFHqH0qR"
      },
      "source": [
        "Bar chart comparing validation and test accuracies for each model."
      ]
    },
    {
      "cell_type": "code",
      "execution_count": null,
      "metadata": {
        "colab": {
          "base_uri": "https://localhost:8080/",
          "height": 564
        },
        "id": "HkkxQSZkLkxX",
        "outputId": "4b65abfb-36be-4d18-a2c4-f153ca33e84f"
      },
      "outputs": [
        {
          "output_type": "display_data",
          "data": {
            "text/plain": [
              "<Figure size 1000x600 with 1 Axes>"
            ],
            "image/png": "[encoded data removed]"
          },
          "metadata": {}
        }
      ],
      "source": [
        "plt.figure(figsize=(10, 6))\n",
        "plt.barh(summary['Model'], summary['Validation Accuracy'], color='skyblue', label='Validation Accuracy')\n",
        "plt.barh(summary['Model'], summary['Test Accuracy'], color='orange', alpha=0.6, label='Test Accuracy')\n",
        "plt.xlabel('Accuracy')\n",
        "plt.title('Model Performance on IMDB Dataset')\n",
        "plt.legend()\n",
        "plt.show()\n"
      ]
    },
    {
      "cell_type": "markdown",
      "metadata": {
        "id": "8agVmvXMZob4"
      },
      "source": [
        "# Display summary"
      ]
    },
    {
      "cell_type": "code",
      "execution_count": null,
      "metadata": {
        "colab": {
          "base_uri": "https://localhost:8080/"
        },
        "id": "E6pnGXAnN82V",
        "outputId": "369ee8c7-d7c6-4782-96f6-bcd07806dbe0"
      },
      "outputs": [
        {
          "output_type": "stream",
          "name": "stdout",
          "text": [
            "                         Model  Validation Accuracy  Test Accuracy\n",
            "0  One Hidden Layer (64 units)              0.86196        0.86196\n",
            "1          Three Hidden Layers              0.85916        0.85916\n",
            "2   Tanh Activation + MSE Loss              0.84616        0.84616\n",
            "3       Dropout Regularization              0.84488        0.84488\n",
            "4             Fewer Units (32)              0.85772        0.85772\n",
            "5             More Units (128)              0.86240        0.86240\n"
          ]
        }
      ],
      "source": [
        "print(summary)\n"
      ]
    }
  ],
  "metadata": {
    "accelerator": "GPU",
    "colab": {
      "gpuType": "T4",
      "provenance": []
    },
    "kernelspec": {
      "display_name": "Python 3",
      "name": "python3"
    },
    "language_info": {
      "name": "python"
    }
  },
  "nbformat": 4,
  "nbformat_minor": 0
}