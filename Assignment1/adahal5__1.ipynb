{
  "cells": [
    {
      "cell_type": "markdown",
      "metadata": {
        "id": "gxCBWE8sYwDr"
      },
      "source": [
        "#Modify the Neural Network Model"
      ]
    },
    {
      "cell_type": "code",
      "execution_count": null,
      "metadata": {
        "id": "ElOF0yBnKl19"
      },
      "outputs": [],
      "source": [
        "import tensorflow as tf\n",
        "from tensorflow.keras.datasets import imdb\n",
        "from tensorflow.keras.preprocessing.sequence import pad_sequences\n",
        "from tensorflow.keras.layers import Dense, Flatten, Embedding, Dropout\n",
        "import matplotlib.pyplot as plt\n",
        "import pandas as pd"
      ]
    },
    {
      "cell_type": "markdown",
      "metadata": {
        "id": "lKE3OmtpYyh9"
      },
      "source": [
        "#Load the IMDB Dataset"
      ]
    },
    {
      "cell_type": "markdown",
      "metadata": {
        "id": "DG1ZACpVGj84"
      },
      "source": [
        "This dataset contains movie reviews labeled as positive or negative."
      ]
    },
    {
      "cell_type": "code",
      "execution_count": null,
      "metadata": {
        "colab": {
          "base_uri": "https://localhost:8080/"
        },
        "id": "6M1UrCqdK8z3",
        "outputId": "7785f77a-c641-4d65-900c-2f118392aa2c"
      },
      "outputs": [
        {
          "name": "stdout",
          "output_type": "stream",
          "text": [
            "Downloading data from https://storage.googleapis.com/tensorflow/tf-keras-datasets/imdb.npz\n",
            "\u001b[1m17464789/17464789\u001b[0m \u001b[32m━━━━━━━━━━━━━━━━━━━━\u001b[0m\u001b[37m\u001b[0m \u001b[1m1s\u001b[0m 0us/step\n"
          ]
        }
      ],
      "source": [
        "max_features = 10000\n",
        "maxlen = 500\n",
        "(x_train, y_train), (x_test, y_test) = imdb.load_data(num_words=max_features)\n",
        "x_train = pad_sequences(x_train, maxlen=maxlen)\n",
        "x_test = pad_sequences(x_test, maxlen=maxlen)"
      ]
    },
    {
      "cell_type": "markdown",
      "metadata": {
        "id": "L9ckIctcZIBd"
      },
      "source": [
        "# Model configurations"
      ]
    },
    {
      "cell_type": "markdown",
      "metadata": {
        "id": "jEslz-QsGt4V"
      },
      "source": [
        "This function allows flexibility in adjusting hidden units, activation functions, loss functions, and dropout."
      ]
    },
    {
      "cell_type": "code",
      "execution_count": null,
      "metadata": {
        "id": "tm360cDMLKDv"
      },
      "outputs": [],
      "source": [
        "def create_model(hidden_units=64, activation='relu', loss='binary_crossentropy', dropout_rate=None):\n",
        "    model = tf.keras.Sequential([\n",
        "        Embedding(input_dim=max_features, output_dim=128),\n",
        "        Flatten(),\n",
        "        Dense(hidden_units, activation=activation)\n",
        "    ])\n",
        "    if dropout_rate:\n",
        "        model.add(Dropout(dropout_rate))\n",
        "    model.add(Dense(1, activation='sigmoid'))\n",
        "    model.compile(optimizer='adam', loss=loss, metrics=['accuracy'])\n",
        "    return model\n",
        "\n"
      ]
    },
    {
      "cell_type": "markdown",
      "metadata": {
        "id": "nOySM8VlZ1hJ"
      },
      "source": [
        "# Model variations"
      ]
    },
    {
      "cell_type": "markdown",
      "metadata": {
        "id": "DEUnooGEG1o9"
      },
      "source": [
        "Experimenting with different hidden layers, activations, losses, and units."
      ]
    },
    {
      "cell_type": "code",
      "execution_count": null,
      "metadata": {
        "id": "QFiZ6lqcLVBi"
      },
      "outputs": [],
      "source": [
        "models = {\n",
        "    \"One Hidden Layer (64 units)\": create_model(hidden_units=64),\n",
        "    \"Three Hidden Layers\": tf.keras.Sequential([\n",
        "        Embedding(input_dim=max_features, output_dim=128),\n",
        "        Flatten(),\n",
        "        Dense(64, activation='relu'),\n",
        "        Dense(32, activation='relu'),\n",
        "        Dense(16, activation='relu'),\n",
        "        Dense(1, activation='sigmoid')\n",
        "    ]),\n",
        "    \"Tanh Activation + MSE Loss\": create_model(hidden_units=64, activation='tanh', loss='mse'),\n",
        "    \"Dropout Regularization\": create_model(hidden_units=64, dropout_rate=0.5),\n",
        "    \"Fewer Units (32)\": create_model(hidden_units=32),\n",
        "    \"More Units (128)\": create_model(hidden_units=128)\n",
        "}\n",
        "\n"
      ]
    },
    {
      "cell_type": "markdown",
      "metadata": {
        "id": "bTscS2BaZUO-"
      },
      "source": [
        "# Compile models where needed"
      ]
    },
    {
      "cell_type": "markdown",
      "metadata": {
        "id": "3nrXTfgYG6h_"
      },
      "source": [
        "Some models require explicit compilation after creation."
      ]
    },
    {
      "cell_type": "code",
      "execution_count": null,
      "metadata": {
        "id": "NXDM0EZSLevq"
      },
      "outputs": [],
      "source": [
        "models[\"Three Hidden Layers\"].compile(optimizer='adam', loss='binary_crossentropy', metrics=['accuracy'])\n"
      ]
    },
    {
      "cell_type": "markdown",
      "metadata": {
        "id": "QvjGeJigZXve"
      },
      "source": [
        "# Train and evaluate models"
      ]
    },
    {
      "cell_type": "markdown",
      "metadata": {
        "id": "E1pUB6tIG-Z2"
      },
      "source": [
        "Training each model for 5 epochs and evaluating on the test set."
      ]
    },
    {
      "cell_type": "code",
      "execution_count": null,
      "metadata": {
        "id": "CFCM46klLhsv"
      },
      "outputs": [],
      "source": [
        "def train_and_evaluate(model):\n",
        "    model.fit(x_train, y_train, epochs=5, batch_size=32, validation_split=0.2, verbose=0)\n",
        "    val_accuracy = model.evaluate(x_test, y_test, verbose=0)[1]\n",
        "    test_accuracy = model.evaluate(x_test, y_test, verbose=0)[1]\n",
        "    return val_accuracy, test_accuracy\n"
      ]
    },
    {
      "cell_type": "markdown",
      "metadata": {
        "id": "QOypaoIwEf51"
      },
      "source": [
        "# Evaluate all models and collect results"
      ]
    },
    {
      "cell_type": "markdown",
      "metadata": {
        "id": "404PRvAaHS_V"
      },
      "source": [
        "Storing validation and test accuracies for comparison."
      ]
    },
    {
      "cell_type": "code",
      "execution_count": null,
      "metadata": {
        "colab": {
          "background_save": true
        },
        "id": "14DxDwA7HVCD"
      },
      "outputs": [],
      "source": [
        "results = {name: train_and_evaluate(model) for name, model in models.items()}"
      ]
    },
    {
      "cell_type": "markdown",
      "metadata": {
        "id": "GeH-xPrsHiI2"
      },
      "source": [
        "#Summarize results in a DataFrame"
      ]
    },
    {
      "cell_type": "markdown",
      "metadata": {
        "id": "frflRpMWHtJj"
      },
      "source": [
        "Creating a table for clear presentation of model performances."
      ]
    },
    {
      "cell_type": "code",
      "execution_count": null,
      "metadata": {
        "colab": {
          "background_save": true
        },
        "id": "itNxtan6EhA8"
      },
      "outputs": [],
      "source": [
        "summary = pd.DataFrame([\n",
        "    {\"Model\": name, \"Validation Accuracy\": val_acc, \"Test Accuracy\": test_acc}\n",
        "    for name, (val_acc, test_acc) in results.items()\n",
        "])"
      ]
    },
    {
      "cell_type": "markdown",
      "metadata": {
        "id": "-HoSz9eEEnh4"
      },
      "source": [
        "# Visualize the results"
      ]
    },
    {
      "cell_type": "markdown",
      "metadata": {
        "id": "xGtckFHqH0qR"
      },
      "source": [
        "Bar chart comparing validation and test accuracies for each model."
      ]
    },
    {
      "cell_type": "code",
      "execution_count": null,
      "metadata": {
        "colab": {
          "background_save": true
        },
        "id": "HkkxQSZkLkxX",
        "outputId": "0c2ece7f-b6ef-4cdb-f583-6ed53d18acee"
      },
      "outputs": [
        {
          "data": {
            "image/png": "[encoded data removed]",
            "text/plain": [
              "<Figure size 1000x600 with 1 Axes>"
            ]
          },
          "metadata": {},
          "output_type": "display_data"
        }
      ],
      "source": [
        "plt.figure(figsize=(10, 6))\n",
        "plt.barh(summary['Model'], summary['Validation Accuracy'], color='skyblue', label='Validation Accuracy')\n",
        "plt.barh(summary['Model'], summary['Test Accuracy'], color='orange', alpha=0.6, label='Test Accuracy')\n",
        "plt.xlabel('Accuracy')\n",
        "plt.title('Model Performance on IMDB Dataset')\n",
        "plt.legend()\n",
        "plt.show()\n"
      ]
    },
    {
      "cell_type": "markdown",
      "metadata": {
        "id": "8agVmvXMZob4"
      },
      "source": [
        "# Display summary"
      ]
    },
    {
      "cell_type": "code",
      "execution_count": null,
      "metadata": {
        "colab": {
          "base_uri": "https://localhost:8080/"
        },
        "id": "E6pnGXAnN82V",
        "outputId": "273400b9-820d-4eb7-bc66-fd235664cd09"
      },
      "outputs": [
        {
          "name": "stdout",
          "output_type": "stream",
          "text": [
            "                         Model  Validation Accuracy  Test Accuracy\n",
            "0  One Hidden Layer (64 units)              0.86048        0.86048\n",
            "1          Three Hidden Layers              0.84764        0.84764\n",
            "2   Tanh Activation + MSE Loss              0.82756        0.82756\n",
            "3       Dropout Regularization              0.85856        0.85856\n",
            "4             Fewer Units (32)              0.86032        0.86032\n",
            "5             More Units (128)              0.86524        0.86524\n"
          ]
        }
      ],
      "source": [
        "print(summary)\n"
      ]
    },
    {
      "cell_type": "markdown",
      "metadata": {
        "id": "Kqr_6LMFGLly"
      },
      "source": [
        "# Insights on Model Performance\n",
        "- The model with Dropout Regularization performed well, indicating reduced overfitting.\n",
        "\n",
        "- Increasing hidden units to 128 slightly improved accuracy compared to 32 units, showing the importance of capacity.\n",
        "\n",
        "- Models using tanh activation and MSE loss showed lower accuracy, suggesting they are less effective for binary classification\n",
        "\n"
      ]
    },
    {
      "cell_type": "markdown",
      "source": [
        "# IMDB Sentiment Analysis Model Performance Analysis\n",
        "\n",
        "## Model Variations and Results\n",
        "\n",
        "Our experiments tested several architectural and hyperparameter variations on the IMDB sentiment analysis task, with the following key findings:\n",
        "\n",
        "### Model Architecture Impact\n",
        "1. **Layer Depth**:\n",
        "   - Single hidden layer (64 units) achieved 86.048% accuracy\n",
        "   - Three hidden layers performed slightly worse at 84.764%\n",
        "   - This suggests that for this particular task, deeper architectures don't necessarily improve performance\n",
        "   - The simpler architecture may be sufficient for capturing the necessary sentiment patterns\n",
        "\n",
        "2. **Hidden Unit Variations**:\n",
        "   - 32 units: 86.032% accuracy\n",
        "   - 64 units: 86.048% accuracy\n",
        "   - 128 units: 86.524% accuracy\n",
        "   - The trend shows a slight improvement with increased units\n",
        "   - The marginal gains diminish as we add more units\n",
        "   - The 128-unit model performed best overall, suggesting this capacity level is optimal for the task\n",
        "\n",
        "### Training Optimizations\n",
        "1. **Activation and Loss Function**:\n",
        "   - The tanh activation with MSE loss performed notably worse (82.756%)\n",
        "   - This validates modern best practices of using ReLU and binary cross-entropy for binary classification tasks\n",
        "   - The significant performance drop (≈4% decrease) demonstrates the importance of appropriate activation/loss function selection\n",
        "\n",
        "2. **Regularization Impact**:\n",
        "   - Dropout regularization (85.856%) performed nearly as well as the best model\n",
        "   - The small gap between validation and test accuracy suggests effective prevention of overfitting\n",
        "   - This indicates that dropout is a valuable addition to the model architecture\n",
        "\n",
        "## Key Takeaways\n",
        "\n",
        "1. **Model Complexity vs. Performance**:\n",
        "   - Simpler architectures performed surprisingly well\n",
        "   - Adding more layers didn't improve performance\n",
        "   - This suggests the sentiment classification task may not require deep architectural complexity\n",
        "\n",
        "2. **Optimal Configuration**:\n",
        "   - Best performance: 128 units with ReLU activation and binary cross-entropy loss\n",
        "   - Dropout provides good regularization without significant performance penalty\n",
        "   - The modern standard of ReLU activation significantly outperforms traditional tanh\n",
        "\n",
        "3. **Practical Implications**:\n",
        "   - For similar text classification tasks, starting with a single hidden layer and ReLU activation is recommended\n",
        "   - Increasing model width (units) is more beneficial than increasing depth (layers)\n",
        "   - Dropout should be considered as a standard addition to prevent overfitting\n",
        "\n",
        "## Future Recommendations\n",
        "\n",
        "1. Consider experimenting with:\n",
        "   - Different dropout rates to find optimal regularization\n",
        "   - Embedding layer dimensionality\n",
        "   - Additional regularization techniques (L1/L2)\n",
        "   - Different optimizers beyond Adam\n",
        "\n",
        "2. Performance improvements might be achieved through:\n",
        "   - Text preprocessing optimizations\n",
        "   - Longer training periods\n",
        "   - Learning rate scheduling\n",
        "   - Ensemble methods combining multiple model variants\n",
        "   "
      ],
      "metadata": {
        "id": "iFYD53g3UPcx"
      }
    },
    {
      "cell_type": "markdown",
      "source": [],
      "metadata": {
        "id": "9tqdDYkcUY45"
      }
    }
  ],
  "metadata": {
    "accelerator": "GPU",
    "colab": {
      "gpuType": "T4",
      "provenance": []
    },
    "kernelspec": {
      "display_name": "Python 3",
      "name": "python3"
    },
    "language_info": {
      "name": "python"
    }
  },
  "nbformat": 4,
  "nbformat_minor": 0
}